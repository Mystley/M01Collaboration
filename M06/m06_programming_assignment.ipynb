{
 "cells": [
  {
   "cell_type": "code",
   "execution_count": 1,
   "metadata": {},
   "outputs": [
    {
     "name": "stdout",
     "output_type": "stream",
     "text": [
      "Sunday October 1, 2023\n",
      "\n",
      "time.struct_time(tm_year=2023, tm_mon=10, tm_mday=1, tm_hour=0, tm_min=0, tm_sec=0, tm_wday=6, tm_yday=274, tm_isdst=-1)\n"
     ]
    }
   ],
   "source": [
    "# 13.1\n",
    "file_out = open(\"today.txt\", \"w\")\n",
    "print(\"Sunday October 1, 2023\", file = file_out)\n",
    "file_out.close()\n",
    "\n",
    "#13.2\n",
    "file_in = open(\"today.txt\", \"r\")\n",
    "today_string = str(file_in.read())\n",
    "print(today_string)\n",
    "\n",
    "#13.3\n",
    "import time\n",
    "# CONSTRUCTING FORMAT\n",
    "#dictionnaries for associating the name of the months to their number values\n",
    "Months_values = {\n",
    "  \"January\":\"1\",\n",
    "  \"February\":\"2\",\n",
    "  \"March\":\"3\",\n",
    "  \"April\":\"4\",\n",
    "  \"May\":\"5\",\n",
    "  \"June\":\"6\",\n",
    "  \"July\":\"7\",\n",
    "  \"August\":\"8\",\n",
    "  \"September\":\"9\",\n",
    "  \"October\":\"10\",\n",
    "  \"November\":\"11\",\n",
    "  \"December\":\"12\"}\n",
    "\n",
    "#Make a list of the keys\n",
    "Months_values.keys()\n",
    "\n",
    "# separate the strings to a list of words, strip\n",
    "sep_string = today_string.split()\n",
    "\n",
    "a = str(sep_string[2]) # get the 3rd itemin the list\n",
    "day_num = a.strip(\",\") # to remove the comma\n",
    "# print(day_num) verified\n",
    "\n",
    "\n",
    "# pick second item in the list, striped\n",
    "month = str(sep_string[1])\n",
    "# print(month) verified\n",
    "\n",
    "# look for it in the list of the keys\n",
    "if month in Months_values:\n",
    "  month_num = Months_values[month]# if found, Convert it to its value in the dictionnary.\n",
    "  # print(month_num) verified\n",
    "\n",
    "\n",
    "\n",
    "# look at year in string strped list and store it to similar variable as day and month\n",
    "year_num = sep_string[3]\n",
    "# print(year_num) verified\n",
    "\n",
    "# now parse it\n",
    "# Create format variable\n",
    "fmt = \"%Y %m %d\"\n",
    "ptime = time.strptime(f\"{year_num} {month_num} {day_num}\", fmt)\n",
    "print(ptime)\n",
    "\n",
    "\n",
    "\n",
    "# we are done with the file\n",
    "file_in.close()"
   ]
  },
  {
   "cell_type": "code",
   "execution_count": 21,
   "metadata": {},
   "outputs": [
    {
     "name": "stdout",
     "output_type": "stream",
     "text": [
      "I am process 10056, the main program and time is 09:23:13 PM\n"
     ]
    }
   ],
   "source": [
    "#15.1\n",
    "import multiprocessing\n",
    "import os\n",
    "import time\n",
    "\n",
    "def presence(intro):\n",
    "    now = time.time()\n",
    "    o = time.ctime(now)\n",
    "    atime = time.strftime(\"%I:%M:%S %p\")\n",
    "\n",
    "    print(\"I am process %s, %s and time is %s\" %(os.getpid(), intro, atime))\n",
    "    \n",
    "if __name__ == \"__main__\":\n",
    "    presence(\"the main program\")\n",
    "    for n in range(2):\n",
    "        p = multiprocessing.Process(target=presence,\n",
    "                                    args=(\"function %s\" % n,))\n",
    "        \n",
    "        time.sleep(0.5)\n",
    "        p.start()\n",
    "        \n",
    "        # The full output is not fully printed on the jupyter notebook but run correctly on the terminal."
   ]
  }
 ],
 "metadata": {
  "kernelspec": {
   "display_name": "Python 3",
   "language": "python",
   "name": "python3"
  },
  "language_info": {
   "codemirror_mode": {
    "name": "ipython",
    "version": 3
   },
   "file_extension": ".py",
   "mimetype": "text/x-python",
   "name": "python",
   "nbconvert_exporter": "python",
   "pygments_lexer": "ipython3",
   "version": "3.11.4"
  },
  "orig_nbformat": 4
 },
 "nbformat": 4,
 "nbformat_minor": 2
}
