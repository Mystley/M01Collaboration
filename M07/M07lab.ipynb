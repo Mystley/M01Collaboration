{
 "cells": [
  {
   "cell_type": "code",
   "execution_count": 2,
   "metadata": {},
   "outputs": [],
   "source": [
    "# %%\n",
    "import pandas as pd\n",
    "\n",
    "df = pd.read_csv(\n",
    "    'track.csv',\n",
    "    parse_dates=['time'],\n",
    "    index_col='time',\n",
    ")\n",
    "df = df.resample('min').mean()\n",
    "# %%\n",
    "import folium\n",
    "\n",
    "m = folium.Map(\n",
    "    location=[df['lat'].mean(), df['lng'].mean()],\n",
    "    zoom_start=15,\n",
    ")\n",
    "\n",
    "def add_marker(row):\n",
    "    loc = tuple(row[['lat', 'lng']])\n",
    "    marker = folium.CircleMarker(\n",
    "        loc,\n",
    "        radius=5,\n",
    "        color='blue' if row['height'] < 100 else 'red',\n",
    "        popup=row.name.strftime('%H:%M'),\n",
    "    )\n",
    "    marker.add_to(m)\n",
    "\n",
    "df.apply(add_marker, axis=1)\n",
    "m"
   ]
  }
 ],
 "metadata": {
  "kernelspec": {
   "display_name": "Python 3",
   "language": "python",
   "name": "python3"
  },
  "language_info": {
   "codemirror_mode": {
    "name": "ipython",
    "version": 3
   },
   "file_extension": ".py",
   "mimetype": "text/x-python",
   "name": "python",
   "nbconvert_exporter": "python",
   "pygments_lexer": "ipython3",
   "version": "3.11.4"
  }
 },
 "nbformat": 4,
 "nbformat_minor": 2
}
