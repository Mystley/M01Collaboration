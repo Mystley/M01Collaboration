{
 "cells": [
  {
   "cell_type": "markdown",
   "metadata": {},
   "source": [
    "__Testing Your Code__\n",
    "\n",
    "In fact I had been able to see that we can specify the content of our error message.\n",
    "\n",
    "I understand that the test case is the script we want to test (written in another python file to test the specific component [unit test]), the assertion is the use of the function assert that won't print anything but will raise an error if ever what we are testing is incorrect, and finally the command line entry point is a piece of code that will allow us to run the script in the command line.\n",
    "\n",
    "I have been able to see that the function sum itself is tested no matter the form of the expression (wheter it's a list or a tuple)\n",
    "\n",
    "With the test with nose2, at first I thought I did something wrong because the output wouldn't look exactly as the one in the tutorial, but realized that my file name was having test in it and that nose would have checked for it, so I remove the \"test\" in the file name and it work closely to the tutorial. The nose2 of the tutorial ran 2 test, mine ran 5 because it checked the \"test cases inheriting from unittest.TestCase in your current directory\"(Real Python).\n",
    "\n",
    "Pytest really simplify the writing of the TestCase. I don't like the unittest syntax.\n"
   ]
  },
  {
   "cell_type": "markdown",
   "metadata": {},
   "source": [
    "__Writing Your First Test__\n",
    "\n",
    "The initial reflections made before writing the test, make me remember Desk Checking. Before thinking about how we'll apply our test, it would be a good idea to desk check for reducing the time we could spend in testing by checking the syntax and/or logic.\n",
    "\n",
    "In the input it's important to have a collection of all possible and acceptable inputs (we should vary) because a set of input can work and another (acceptable) input doesn't.\n",
    "\n",
    "Now in the assertion phase, it is important to know that when we are humans and prone to error... It would minimize the chances of errors to have someone else review the expected results so we are sure that when the code is behaving the right way that we are not the ones misinterprating it. And familiarizing myself with the assert method in unittest and not so a big deal after all.\n",
    "\n",
    "I appreciate the fact that we are taking into account the side effects because we don't want to break the Single Responsibility Principle and create collateral damages. The Single Responsibility Principle forces us to act on the code itself and not working around the test to check our code.\n"
   ]
  },
  {
   "cell_type": "markdown",
   "metadata": {},
   "source": [
    "__Executing Your First Test__\n",
    "\n",
    "The test should be executable, \"before you create more complex tests, you should check that you can execute the tests successfully.\" (Real Python)\n",
    "\n",
    "At some point in the tutorial, when they were explaining the differents options you can provide in the command line to runt the test, they were a lack of output on the website that we could compare our output with.\n",
    "\n",
    "As I never used PyCharm, I was not tempted to read the sections talking about running our tests from PyCharm.\n",
    "\n",
    "Proceeding with the section of Visual Studio Code, when I did Ctrl + Shift + P, and typed \"Python test\",  it only showed me \"Python: Configure Tests\", which is not quite exactly the same thing as what is on the tutorial. I think the tutorial should consider making these tutos on a computer specifically designed for this purpose where no previous environments where setup so the output are exactly the same as the beginner applying what they say and also take into consideration the version and models of the software and update the tutos when necessary.\n",
    "I had to click on the \"Python: Configure Tests\" and there was the options for unittest and pytest. I selected pytest first, then unittest and it asked me to select the directory containing the tests. I chose \"project\" and then it asked me the name pattern which I select \"test*.py\". Even after all these steps, it didn't showed \"Python: Debug All Unit Tests\" and I wasn't able to follow the rest of the tutorial\n",
    "\n",
    "For the \"Testing for Web Frameworks Like Django and Flask\" section, I avoided it but read it\n",
    "\n",
    "For the \"Testing Data-Driven Applications\" section, I quickly realized that the integration testing is really cumbersome that we should even write the test by referring to the initial phase of the application development where we set the goal of the application before writing the code and code then.\n"
   ]
  },
  {
   "cell_type": "markdown",
   "metadata": {},
   "source": [
    "Now that I have been describing the test results, I think they mean we should definitely pay attention to our code before sending it to production, and even at the testing phase, we should be careful to not be the one mistaking, take into consideration what we want to achieve, what are we testing, if it is prone to side effects, and how can we respect the Single Responsibility Principle closely by creating our inputs (make sure it take into consideration all acceptable inputs), execute the code by capturing the outputs to finally compare them with the expected results."
   ]
  }
 ],
 "metadata": {
  "language_info": {
   "name": "python"
  },
  "orig_nbformat": 4
 },
 "nbformat": 4,
 "nbformat_minor": 2
}
